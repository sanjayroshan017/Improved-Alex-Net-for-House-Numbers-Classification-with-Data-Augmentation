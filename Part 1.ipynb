{
 "cells": [
  {
   "cell_type": "markdown",
   "id": "c62c17dc",
   "metadata": {},
   "source": [
    "# PART 1"
   ]
  },
  {
   "cell_type": "code",
   "execution_count": 135,
   "id": "2b13af39",
   "metadata": {},
   "outputs": [],
   "source": [
    "import pandas as pd\n",
    "import sklearn\n",
    "import matplotlib.pyplot as plt\n",
    "import seaborn as sns\n",
    "import numpy as np\n",
    "from sklearn.preprocessing import StandardScaler\n",
    "from sklearn.model_selection import train_test_split\n",
    "from sklearn.model_selection import KFold\n",
    "import torch\n",
    "import torch.nn as nn\n",
    "import torch.optim as optim"
   ]
  },
  {
   "cell_type": "code",
   "execution_count": 2,
   "id": "d48bf435",
   "metadata": {},
   "outputs": [],
   "source": [
    "df = pd.read_csv(\"C:/Users/Sanjay/Downloads/dataset.csv\")"
   ]
  },
  {
   "cell_type": "code",
   "execution_count": 3,
   "id": "dd1903b3",
   "metadata": {},
   "outputs": [
    {
     "data": {
      "text/html": [
       "<div>\n",
       "<style scoped>\n",
       "    .dataframe tbody tr th:only-of-type {\n",
       "        vertical-align: middle;\n",
       "    }\n",
       "\n",
       "    .dataframe tbody tr th {\n",
       "        vertical-align: top;\n",
       "    }\n",
       "\n",
       "    .dataframe thead th {\n",
       "        text-align: right;\n",
       "    }\n",
       "</style>\n",
       "<table border=\"1\" class=\"dataframe\">\n",
       "  <thead>\n",
       "    <tr style=\"text-align: right;\">\n",
       "      <th></th>\n",
       "      <th>f1</th>\n",
       "      <th>f2</th>\n",
       "      <th>f3</th>\n",
       "      <th>f4</th>\n",
       "      <th>f5</th>\n",
       "      <th>f6</th>\n",
       "      <th>f7</th>\n",
       "      <th>target</th>\n",
       "    </tr>\n",
       "  </thead>\n",
       "  <tbody>\n",
       "    <tr>\n",
       "      <th>0</th>\n",
       "      <td>6</td>\n",
       "      <td>148</td>\n",
       "      <td>72</td>\n",
       "      <td>35</td>\n",
       "      <td>0</td>\n",
       "      <td>33.6</td>\n",
       "      <td>0.627</td>\n",
       "      <td>1</td>\n",
       "    </tr>\n",
       "    <tr>\n",
       "      <th>1</th>\n",
       "      <td>1</td>\n",
       "      <td>85</td>\n",
       "      <td>66</td>\n",
       "      <td>29</td>\n",
       "      <td>0</td>\n",
       "      <td>26.6</td>\n",
       "      <td>0.351</td>\n",
       "      <td>0</td>\n",
       "    </tr>\n",
       "    <tr>\n",
       "      <th>2</th>\n",
       "      <td>8</td>\n",
       "      <td>183</td>\n",
       "      <td>64</td>\n",
       "      <td>0</td>\n",
       "      <td>0</td>\n",
       "      <td>23.3</td>\n",
       "      <td>0.672</td>\n",
       "      <td>1</td>\n",
       "    </tr>\n",
       "    <tr>\n",
       "      <th>3</th>\n",
       "      <td>1</td>\n",
       "      <td>89</td>\n",
       "      <td>66</td>\n",
       "      <td>23</td>\n",
       "      <td>94</td>\n",
       "      <td>28.1</td>\n",
       "      <td>0.167</td>\n",
       "      <td>0</td>\n",
       "    </tr>\n",
       "    <tr>\n",
       "      <th>4</th>\n",
       "      <td>0</td>\n",
       "      <td>137</td>\n",
       "      <td>40</td>\n",
       "      <td>35</td>\n",
       "      <td>168</td>\n",
       "      <td>43.1</td>\n",
       "      <td>2.288</td>\n",
       "      <td>1</td>\n",
       "    </tr>\n",
       "  </tbody>\n",
       "</table>\n",
       "</div>"
      ],
      "text/plain": [
       "  f1   f2  f3  f4   f5    f6     f7  target\n",
       "0  6  148  72  35    0  33.6  0.627       1\n",
       "1  1   85  66  29    0  26.6  0.351       0\n",
       "2  8  183  64   0    0  23.3  0.672       1\n",
       "3  1   89  66  23   94  28.1  0.167       0\n",
       "4  0  137  40  35  168  43.1  2.288       1"
      ]
     },
     "execution_count": 3,
     "metadata": {},
     "output_type": "execute_result"
    }
   ],
   "source": [
    "df.head()"
   ]
  },
  {
   "cell_type": "code",
   "execution_count": 4,
   "id": "d31e36d7",
   "metadata": {},
   "outputs": [
    {
     "data": {
      "text/plain": [
       "f1        object\n",
       "f2        object\n",
       "f3         int64\n",
       "f4        object\n",
       "f5        object\n",
       "f6        object\n",
       "f7        object\n",
       "target     int64\n",
       "dtype: object"
      ]
     },
     "execution_count": 4,
     "metadata": {},
     "output_type": "execute_result"
    }
   ],
   "source": [
    "df.dtypes"
   ]
  },
  {
   "cell_type": "code",
   "execution_count": 5,
   "id": "5d7a538c",
   "metadata": {},
   "outputs": [
    {
     "data": {
      "text/plain": [
       "f1        0\n",
       "f2        0\n",
       "f3        0\n",
       "f4        0\n",
       "f5        0\n",
       "f6        0\n",
       "f7        0\n",
       "target    0\n",
       "dtype: int64"
      ]
     },
     "execution_count": 5,
     "metadata": {},
     "output_type": "execute_result"
    }
   ],
   "source": [
    "# Checking for null values\n",
    "df.isna().sum()"
   ]
  },
  {
   "cell_type": "code",
   "execution_count": 6,
   "id": "02413824",
   "metadata": {},
   "outputs": [
    {
     "name": "stdout",
     "output_type": "stream",
     "text": [
      "Yes\n"
     ]
    }
   ],
   "source": [
    "# checking to see if the dataset has alphabectical value\n",
    "alpha = df.select_dtypes(include=['object']).apply(lambda x: x.str.contains('[a-zA-Z]').any())\n",
    "if any(alpha):\n",
    "    print(\"Yes\")\n",
    "else:\n",
    "    print(\"No\")"
   ]
  },
  {
   "cell_type": "code",
   "execution_count": 7,
   "id": "dc03d2a9",
   "metadata": {},
   "outputs": [],
   "source": [
    "# changing the alphabetical value to null value\n",
    "df = df.replace('[a-zA-Z]','',regex=True)\n",
    "df = df.apply(pd.to_numeric)"
   ]
  },
  {
   "cell_type": "code",
   "execution_count": 8,
   "id": "494e8558",
   "metadata": {},
   "outputs": [
    {
     "data": {
      "text/plain": [
       "f1        1\n",
       "f2        1\n",
       "f3        0\n",
       "f4        1\n",
       "f5        1\n",
       "f6        1\n",
       "f7        1\n",
       "target    0\n",
       "dtype: int64"
      ]
     },
     "execution_count": 8,
     "metadata": {},
     "output_type": "execute_result"
    }
   ],
   "source": [
    "# checking for null values after the change\n",
    "df.isna().sum()"
   ]
  },
  {
   "cell_type": "code",
   "execution_count": 9,
   "id": "23fb370d",
   "metadata": {},
   "outputs": [
    {
     "data": {
      "text/plain": [
       "f1        0\n",
       "f2        0\n",
       "f3        0\n",
       "f4        0\n",
       "f5        0\n",
       "f6        0\n",
       "f7        0\n",
       "target    0\n",
       "dtype: int64"
      ]
     },
     "execution_count": 9,
     "metadata": {},
     "output_type": "execute_result"
    }
   ],
   "source": [
    "# dropping the null values\n",
    "df = df.dropna()\n",
    "df.isna().sum()"
   ]
  },
  {
   "cell_type": "code",
   "execution_count": 10,
   "id": "3c227812",
   "metadata": {},
   "outputs": [
    {
     "data": {
      "text/plain": [
       "f1         17\n",
       "f2        136\n",
       "f3         47\n",
       "f4         51\n",
       "f5        184\n",
       "f6        248\n",
       "f7        515\n",
       "target      2\n",
       "dtype: int64"
      ]
     },
     "execution_count": 10,
     "metadata": {},
     "output_type": "execute_result"
    }
   ],
   "source": [
    "# unique values\n",
    "df.nunique()"
   ]
  },
  {
   "cell_type": "code",
   "execution_count": 11,
   "id": "57ced540",
   "metadata": {},
   "outputs": [
    {
     "data": {
      "text/html": [
       "<div>\n",
       "<style scoped>\n",
       "    .dataframe tbody tr th:only-of-type {\n",
       "        vertical-align: middle;\n",
       "    }\n",
       "\n",
       "    .dataframe tbody tr th {\n",
       "        vertical-align: top;\n",
       "    }\n",
       "\n",
       "    .dataframe thead th {\n",
       "        text-align: right;\n",
       "    }\n",
       "</style>\n",
       "<table border=\"1\" class=\"dataframe\">\n",
       "  <thead>\n",
       "    <tr style=\"text-align: right;\">\n",
       "      <th></th>\n",
       "      <th>f1</th>\n",
       "      <th>f2</th>\n",
       "      <th>f3</th>\n",
       "      <th>f4</th>\n",
       "      <th>f5</th>\n",
       "      <th>f6</th>\n",
       "      <th>f7</th>\n",
       "      <th>target</th>\n",
       "    </tr>\n",
       "  </thead>\n",
       "  <tbody>\n",
       "    <tr>\n",
       "      <th>count</th>\n",
       "      <td>760.000000</td>\n",
       "      <td>760.000000</td>\n",
       "      <td>760.000000</td>\n",
       "      <td>760.000000</td>\n",
       "      <td>760.000000</td>\n",
       "      <td>760.000000</td>\n",
       "      <td>760.000000</td>\n",
       "      <td>760.000000</td>\n",
       "    </tr>\n",
       "    <tr>\n",
       "      <th>mean</th>\n",
       "      <td>3.834211</td>\n",
       "      <td>120.969737</td>\n",
       "      <td>69.119737</td>\n",
       "      <td>20.507895</td>\n",
       "      <td>80.234211</td>\n",
       "      <td>31.998684</td>\n",
       "      <td>0.473250</td>\n",
       "      <td>0.350000</td>\n",
       "    </tr>\n",
       "    <tr>\n",
       "      <th>std</th>\n",
       "      <td>3.364762</td>\n",
       "      <td>32.023301</td>\n",
       "      <td>19.446088</td>\n",
       "      <td>15.958029</td>\n",
       "      <td>115.581444</td>\n",
       "      <td>7.899724</td>\n",
       "      <td>0.332277</td>\n",
       "      <td>0.477284</td>\n",
       "    </tr>\n",
       "    <tr>\n",
       "      <th>min</th>\n",
       "      <td>0.000000</td>\n",
       "      <td>0.000000</td>\n",
       "      <td>0.000000</td>\n",
       "      <td>0.000000</td>\n",
       "      <td>0.000000</td>\n",
       "      <td>0.000000</td>\n",
       "      <td>0.078000</td>\n",
       "      <td>0.000000</td>\n",
       "    </tr>\n",
       "    <tr>\n",
       "      <th>25%</th>\n",
       "      <td>1.000000</td>\n",
       "      <td>99.000000</td>\n",
       "      <td>63.500000</td>\n",
       "      <td>0.000000</td>\n",
       "      <td>0.000000</td>\n",
       "      <td>27.300000</td>\n",
       "      <td>0.243750</td>\n",
       "      <td>0.000000</td>\n",
       "    </tr>\n",
       "    <tr>\n",
       "      <th>50%</th>\n",
       "      <td>3.000000</td>\n",
       "      <td>117.000000</td>\n",
       "      <td>72.000000</td>\n",
       "      <td>23.000000</td>\n",
       "      <td>36.000000</td>\n",
       "      <td>32.000000</td>\n",
       "      <td>0.375500</td>\n",
       "      <td>0.000000</td>\n",
       "    </tr>\n",
       "    <tr>\n",
       "      <th>75%</th>\n",
       "      <td>6.000000</td>\n",
       "      <td>141.000000</td>\n",
       "      <td>80.000000</td>\n",
       "      <td>32.000000</td>\n",
       "      <td>128.250000</td>\n",
       "      <td>36.600000</td>\n",
       "      <td>0.627500</td>\n",
       "      <td>1.000000</td>\n",
       "    </tr>\n",
       "    <tr>\n",
       "      <th>max</th>\n",
       "      <td>17.000000</td>\n",
       "      <td>199.000000</td>\n",
       "      <td>122.000000</td>\n",
       "      <td>99.000000</td>\n",
       "      <td>846.000000</td>\n",
       "      <td>67.100000</td>\n",
       "      <td>2.420000</td>\n",
       "      <td>1.000000</td>\n",
       "    </tr>\n",
       "  </tbody>\n",
       "</table>\n",
       "</div>"
      ],
      "text/plain": [
       "               f1          f2          f3          f4          f5          f6  \\\n",
       "count  760.000000  760.000000  760.000000  760.000000  760.000000  760.000000   \n",
       "mean     3.834211  120.969737   69.119737   20.507895   80.234211   31.998684   \n",
       "std      3.364762   32.023301   19.446088   15.958029  115.581444    7.899724   \n",
       "min      0.000000    0.000000    0.000000    0.000000    0.000000    0.000000   \n",
       "25%      1.000000   99.000000   63.500000    0.000000    0.000000   27.300000   \n",
       "50%      3.000000  117.000000   72.000000   23.000000   36.000000   32.000000   \n",
       "75%      6.000000  141.000000   80.000000   32.000000  128.250000   36.600000   \n",
       "max     17.000000  199.000000  122.000000   99.000000  846.000000   67.100000   \n",
       "\n",
       "               f7      target  \n",
       "count  760.000000  760.000000  \n",
       "mean     0.473250    0.350000  \n",
       "std      0.332277    0.477284  \n",
       "min      0.078000    0.000000  \n",
       "25%      0.243750    0.000000  \n",
       "50%      0.375500    0.000000  \n",
       "75%      0.627500    1.000000  \n",
       "max      2.420000    1.000000  "
      ]
     },
     "execution_count": 11,
     "metadata": {},
     "output_type": "execute_result"
    }
   ],
   "source": [
    "# Description of the dataset after the change\n",
    "df.describe()"
   ]
  },
  {
   "cell_type": "code",
   "execution_count": 12,
   "id": "69d8e6db",
   "metadata": {},
   "outputs": [
    {
     "data": {
      "image/png": "[encoded data removed]",
      "text/plain": [
       "<Figure size 640x480 with 2 Axes>"
      ]
     },
     "metadata": {},
     "output_type": "display_data"
    }
   ],
   "source": [
    "# Correlation plot\n",
    "sns.heatmap(df.corr(), annot=True)\n",
    "plt.show()"
   ]
  },
  {
   "cell_type": "code",
   "execution_count": 13,
   "id": "4e936f40",
   "metadata": {},
   "outputs": [
    {
     "data": {
      "image/png": "[encoded data removed]",
      "text/plain": [
       "<Figure size 1200x900 with 8 Axes>"
      ]
     },
     "metadata": {},
     "output_type": "display_data"
    }
   ],
   "source": [
    "# Histogram\n",
    "fig, axes = plt.subplots(nrows=2, ncols=4, figsize=(12, 9))\n",
    "sns.histplot(df[\"f1\"],ax=axes[0, 0])\n",
    "sns.histplot(df[\"f2\"], ax = axes[0,1])\n",
    "sns.histplot(df[\"f3\"], ax = axes[0,2])\n",
    "sns.histplot(df[\"f4\"], ax = axes[0,3])\n",
    "sns.histplot(df[\"f5\"], ax = axes[1,0])\n",
    "sns.histplot(df[\"f6\"], ax = axes[1,1])\n",
    "sns.histplot(df[\"f7\"], ax = axes[1,2])\n",
    "sns.histplot(df[\"target\"], ax = axes[1,3])\n",
    "fig.tight_layout()\n",
    "plt.show()"
   ]
  },
  {
   "cell_type": "code",
   "execution_count": 14,
   "id": "87d6c827",
   "metadata": {},
   "outputs": [],
   "source": [
    "# Standard scaler\n",
    "scaler = StandardScaler()\n",
    "s = scaler.fit_transform(df.drop('target', axis=1))\n",
    "df1 = pd.DataFrame(s, columns=df.columns[:-1])\n",
    "df1['target'] = df['target']"
   ]
  },
  {
   "cell_type": "code",
   "execution_count": 155,
   "id": "1caf9adf",
   "metadata": {},
   "outputs": [],
   "source": [
    "# Splitting the dataset into training and validation sets\n",
    "x_train, x_test, y_train, y_test = train_test_split(df1.drop('target', axis=1), df1['target'], test_size=0.2, random_state=42)"
   ]
  },
  {
   "cell_type": "code",
   "execution_count": 156,
   "id": "8eff54bf",
   "metadata": {},
   "outputs": [
    {
     "data": {
      "text/plain": [
       "(608, 7)"
      ]
     },
     "execution_count": 156,
     "metadata": {},
     "output_type": "execute_result"
    }
   ],
   "source": [
    "x_train.shape"
   ]
  },
  {
   "cell_type": "code",
   "execution_count": 157,
   "id": "577370f2",
   "metadata": {},
   "outputs": [
    {
     "data": {
      "text/plain": [
       "(152, 7)"
      ]
     },
     "execution_count": 157,
     "metadata": {},
     "output_type": "execute_result"
    }
   ],
   "source": [
    "x_test.shape"
   ]
  },
  {
   "cell_type": "code",
   "execution_count": 158,
   "id": "2eeff5ef",
   "metadata": {},
   "outputs": [
    {
     "data": {
      "text/plain": [
       "(608,)"
      ]
     },
     "execution_count": 158,
     "metadata": {},
     "output_type": "execute_result"
    }
   ],
   "source": [
    "y_train.shape"
   ]
  },
  {
   "cell_type": "code",
   "execution_count": 159,
   "id": "b3a55087",
   "metadata": {},
   "outputs": [
    {
     "data": {
      "text/plain": [
       "(152,)"
      ]
     },
     "execution_count": 159,
     "metadata": {},
     "output_type": "execute_result"
    }
   ],
   "source": [
    "y_test.shape"
   ]
  },
  {
   "cell_type": "code",
   "execution_count": 159,
   "id": "304d1bac",
   "metadata": {},
   "outputs": [],
   "source": [
    "# defining the neural network\n",
    "class NeuralNetwork(nn.Module):\n",
    "    def __init__(self):\n",
    "\n",
    "        super(NeuralNetwork, self).__init__()\n",
    "        self.fc1 = nn.Linear(7, 128)\n",
    "        self.relu = nn.ReLU()\n",
    "        self.fc2 = nn.Linear(128, 128)\n",
    "        self.fc3 = nn.Linear(128, 2)\n",
    "    def forward(self, x):\n",
    "\n",
    "        out = self.fc1(x)\n",
    "        out = self.relu(out)\n",
    "        out = self.fc2(out)\n",
    "        out = self.relu(out)\n",
    "        out = self.fc3(out)\n",
    "        return out\n",
    "    def fit(self, x_train, y_train, num_epochs, batch_size, learning_rate):\n",
    "        t_loss = []\n",
    "        t_accuracy = []\n",
    "        # loss function and optimizer\n",
    "        loss_func = nn.CrossEntropyLoss()\n",
    "        opti = optim.Adam(self.parameters(), lr=learning_rate)\n",
    "        for e in range(num_epochs):\n",
    "            a = torch.randperm(x_train.shape[0])\n",
    "            x_train = x_train[a]\n",
    "            y_train = y_train[a]\n",
    "            e_loss = 0.0\n",
    "            e_accuracy = 0.0\n",
    "            for i in range(0,x_train.shape[0],batch_size):\n",
    "                x_batch = x_train[i:i+batch_size]\n",
    "                y_batch = y_train[i:i+batch_size]\n",
    "                opti.zero_grad()\n",
    "                y_pred = self(x_batch)\n",
    "                loss = loss_func(y_pred,y_batch)\n",
    "                loss.backward()\n",
    "                opti.step()\n",
    "                e_loss+=loss.item( )* x_batch.size(0)\n",
    "                _,l_pred = torch.max(y_pred.data,1)\n",
    "                e_accuracy += (l_pred == y_batch).sum().item()\n",
    "            e_loss /= x_train.shape[0]\n",
    "            e_accuracy /= x_train.shape[0]\n",
    "            t_loss.append(e_loss)\n",
    "            t_accuracy.append(e_accuracy)\n",
    "    def predict(self,x):\n",
    "        self.eval()\n",
    "        _,l_pred = torch.max(self(x), dim=1)\n",
    "        return l_pred\n",
    "                "
   ]
  },
  {
   "cell_type": "code",
   "execution_count": 160,
   "id": "5ae76a9d",
   "metadata": {},
   "outputs": [],
   "source": [
    "model = NeuralNetwork()"
   ]
  },
  {
   "cell_type": "code",
   "execution_count": 160,
   "id": "3f4600fd",
   "metadata": {},
   "outputs": [],
   "source": [
    "x_train = np.array(x_train, dtype=np.float32)\n",
    "y_train = np.array(y_train, dtype=np.int64)\n",
    "x_test = np.array(x_test, dtype=np.float32)\n",
    "y_test = np.array(y_test, dtype=np.int64)"
   ]
  },
  {
   "cell_type": "code",
   "execution_count": 161,
   "id": "ca005270",
   "metadata": {},
   "outputs": [],
   "source": [
    "x_train = torch.tensor(x_train, dtype=torch.float32)\n",
    "y_train = torch.tensor(y_train, dtype=torch.int64)\n",
    "x_test = torch.tensor(x_test, dtype=torch.float32)\n",
    "y_test = torch.tensor(y_test, dtype=torch.int64)"
   ]
  },
  {
   "cell_type": "code",
   "execution_count": 162,
   "id": "e1106e98",
   "metadata": {},
   "outputs": [],
   "source": [
    "# Fitting the model\n",
    "model.fit(x_train,y_train,num_epochs=250,batch_size=128,learning_rate=0.0001)"
   ]
  },
  {
   "cell_type": "code",
   "execution_count": 163,
   "id": "209dcfb3",
   "metadata": {},
   "outputs": [
    {
     "data": {
      "text/plain": [
       "0.756578947368421"
      ]
     },
     "execution_count": 163,
     "metadata": {},
     "output_type": "execute_result"
    }
   ],
   "source": [
    "# Predicting the accuracy\n",
    "y_pred = model.predict(x_test)\n",
    "accuracy = ((y_pred == y_test).sum().item()) / (y_test.shape[0])\n",
    "accuracy"
   ]
  },
  {
   "cell_type": "markdown",
   "id": "9c2692ae",
   "metadata": {},
   "source": [
    "The accuracy score is 0.75657"
   ]
  },
  {
   "cell_type": "code",
   "execution_count": 164,
   "id": "fc99e6ac",
   "metadata": {},
   "outputs": [],
   "source": [
    "# saving the weights\n",
    "torch.save(model,'SanjayRoshanravichandran_SanjayTarunJagannathan_assignment2_part1.h5')"
   ]
  },
  {
   "cell_type": "markdown",
   "id": "18cb1612",
   "metadata": {},
   "source": [
    "# PART 2"
   ]
  },
  {
   "cell_type": "code",
   "execution_count": 1,
   "id": "f6fc7b19",
   "metadata": {},
   "outputs": [],
   "source": [
    "# For the first hyperparameter tuning, Dropout hyperparameter is used\n",
    "# Dropout will change but other hyperparameters is constant"
   ]
  },
  {
   "cell_type": "code",
   "execution_count": 22,
   "id": "4007ebbd",
   "metadata": {},
   "outputs": [],
   "source": [
    "class NeuralNetwork1(nn.Module):\n",
    "    def __init__(self,d,learning_rate):\n",
    "\n",
    "        super(NeuralNetwork1, self).__init__()\n",
    "        self.fc1 = nn.Linear(7, 128)\n",
    "        self.dropout = nn.Dropout(d)\n",
    "        self.relu = nn.ReLU()\n",
    "        self.fc2 = nn.Linear(128, 128)\n",
    "        self.fc3 = nn.Linear(128, 2)\n",
    "        nn.init.xavier_normal_(self.fc1.weight)\n",
    "        nn.init.xavier_normal_(self.fc2.weight)\n",
    "        nn.init.xavier_normal_(self.fc3.weight)\n",
    "        self.optimizer = optim.Adam(self.parameters(), lr =  learning_rate)\n",
    "    def forward(self, x):\n",
    "\n",
    "        out = self.fc1(x)\n",
    "        out = self.dropout(out)\n",
    "        out = self.relu(out)\n",
    "        out = self.fc2(out)\n",
    "        out = self.relu(out)\n",
    "        out = self.fc3(out)\n",
    "        return out\n",
    "    def fit(self, x_train, y_train, num_epochs, batch_size):\n",
    "        t_loss = []\n",
    "        t_accuracy = []\n",
    "        # loss function\n",
    "        loss_func = nn.CrossEntropyLoss()\n",
    "        for e in range(num_epochs):\n",
    "            a = torch.randperm(x_train.shape[0])\n",
    "            x_train = x_train[a]\n",
    "            y_train = y_train[a]\n",
    "            e_loss = 0.0\n",
    "            e_accuracy = 0.0\n",
    "            for i in range(0,x_train.shape[0],batch_size):\n",
    "                x_batch = x_train[i:i+batch_size]\n",
    "                y_batch = y_train[i:i+batch_size]\n",
    "                self.optimizer.zero_grad()\n",
    "                y_pred = self(x_batch)\n",
    "                loss = loss_func(y_pred,y_batch)\n",
    "                loss.backward()\n",
    "                self.optimizer.step()\n",
    "                e_loss+=loss.item( )* x_batch.size(0)\n",
    "                _,l_pred = torch.max(y_pred.data,1)\n",
    "                e_accuracy += (l_pred == y_batch).sum().item()\n",
    "            e_loss /= x_train.shape[0]\n",
    "            e_accuracy /= x_train.shape[0]\n",
    "            t_loss.append(e_loss)\n",
    "            t_accuracy.append(e_accuracy)\n",
    "    def predict(self,x):\n",
    "        self.eval()\n",
    "        _,l_pred = torch.max(self(x), dim=1)\n",
    "        return l_pred"
   ]
  },
  {
   "cell_type": "code",
   "execution_count": 23,
   "id": "f5fca1f5",
   "metadata": {},
   "outputs": [
    {
     "name": "stdout",
     "output_type": "stream",
     "text": [
      "Dropout: 0.2, Activation Function: Relu , Initializer: xavier_normal,Optimizer: Adam, Test Accuracy: 0.7303\n",
      "Dropout: 0.3, Activation Function: Relu , Initializer: xavier_normal,Optimizer: Adam, Test Accuracy: 0.7500\n",
      "Dropout: 0.4, Activation Function: Relu , Initializer: xavier_normal,Optimizer: Adam, Test Accuracy: 0.7500\n"
     ]
    }
   ],
   "source": [
    "dropout = [0.2,0.3,0.4]\n",
    "learning_rate = 0.0001\n",
    "for d in dropout:\n",
    "    model = NeuralNetwork1(d,learning_rate)\n",
    "    model.fit(x_train,y_train,num_epochs=250,batch_size=128)\n",
    "    # Predicting the accuracy\n",
    "    y_pred = model.predict(x_test)\n",
    "    accuracy = ((y_pred == y_test).sum().item()) / (y_test.shape[0])\n",
    "    print(\"Dropout: {}, Activation Function: Relu , Initializer: xavier_normal,Optimizer: Adam, Test Accuracy: {:.4f}\".format(d,accuracy))"
   ]
  },
  {
   "cell_type": "code",
   "execution_count": 25,
   "id": "5ad0cf3f",
   "metadata": {},
   "outputs": [],
   "source": [
    "# For the second hyperparameter tuning, Activation function is used\n",
    "# Activation function will change but other hyperparameters is constant"
   ]
  },
  {
   "cell_type": "code",
   "execution_count": 64,
   "id": "c0e5bb5d",
   "metadata": {},
   "outputs": [],
   "source": [
    "class NeuralNetwork2(nn.Module):\n",
    "    def __init__(self,d,a,learning_rate):\n",
    "\n",
    "        super(NeuralNetwork2, self).__init__()\n",
    "        self.fc1 = nn.Linear(7, 128)\n",
    "        self.dropout = nn.Dropout(d)\n",
    "        if a == \"Relu\":\n",
    "            self.activationfunction = nn.ReLU()\n",
    "        elif a == \"Sigmoid\":\n",
    "            self.activationfunction = nn.Sigmoid()\n",
    "        elif a == \"Softmax\":\n",
    "            self.activationfunction = nn.Softmax()\n",
    "        self.fc2 = nn.Linear(128, 128)\n",
    "        self.fc3 = nn.Linear(128, 2)\n",
    "        nn.init.xavier_normal_(self.fc1.weight)\n",
    "        nn.init.xavier_normal_(self.fc2.weight)\n",
    "        nn.init.xavier_normal_(self.fc3.weight)\n",
    "        self.optimizer = optim.Adam(self.parameters(), lr =  learning_rate)\n",
    "    def forward(self, x):\n",
    "\n",
    "        out = self.fc1(x)\n",
    "        out = self.dropout(out)\n",
    "        out = self.activationfunction(out)\n",
    "        out = self.fc2(out)\n",
    "        out = self.fc3(out)\n",
    "        return out\n",
    "    def fit(self, x_train, y_train, num_epochs, batch_size):\n",
    "        t_loss = []\n",
    "        t_accuracy = []\n",
    "        # loss function \n",
    "        loss_func = nn.CrossEntropyLoss()\n",
    "        for e in range(num_epochs):\n",
    "            a = torch.randperm(x_train.shape[0])\n",
    "            x_train = x_train[a]\n",
    "            y_train = y_train[a]\n",
    "            e_loss = 0.0\n",
    "            e_accuracy = 0.0\n",
    "            for i in range(0,x_train.shape[0],batch_size):\n",
    "                x_batch = x_train[i:i+batch_size]\n",
    "                y_batch = y_train[i:i+batch_size]\n",
    "                self.optimizer.zero_grad()\n",
    "                y_pred = self(x_batch)\n",
    "                loss = loss_func(y_pred,y_batch)\n",
    "                loss.backward()\n",
    "                self.optimizer.step()\n",
    "                e_loss+=loss.item( )* x_batch.size(0)\n",
    "                _,l_pred = torch.max(y_pred.data,1)\n",
    "                e_accuracy += (l_pred == y_batch).sum().item()\n",
    "            e_loss /= x_train.shape[0]\n",
    "            e_accuracy /= x_train.shape[0]\n",
    "            t_loss.append(e_loss)\n",
    "            t_accuracy.append(e_accuracy)\n",
    "    def predict(self,x):\n",
    "        self.eval()\n",
    "        _,l_pred = torch.max(self(x), dim=1)\n",
    "        return l_pred"
   ]
  },
  {
   "cell_type": "code",
   "execution_count": 65,
   "id": "f33ed871",
   "metadata": {},
   "outputs": [
    {
     "name": "stdout",
     "output_type": "stream",
     "text": [
      "Activation Function: Relu ,Dropout: 0.2, Initializer: xavier_normal,Optimizer: Adam, Test Accuracy: 0.7566\n",
      "Activation Function: Sigmoid ,Dropout: 0.2, Initializer: xavier_normal,Optimizer: Adam, Test Accuracy: 0.7368\n"
     ]
    },
    {
     "name": "stderr",
     "output_type": "stream",
     "text": [
      "C:\\Users\\Sanjay\\AppData\\Local\\Temp\\ipykernel_1528\\1744263015.py:23: UserWarning: Implicit dimension choice for softmax has been deprecated. Change the call to include dim=X as an argument.\n",
      "  out = self.activationfunction(out)\n"
     ]
    },
    {
     "name": "stdout",
     "output_type": "stream",
     "text": [
      "Activation Function: Softmax ,Dropout: 0.2, Initializer: xavier_normal,Optimizer: Adam, Test Accuracy: 0.7697\n"
     ]
    }
   ],
   "source": [
    "acti_fn = [\"Relu\",\"Sigmoid\",\"Softmax\"]\n",
    "d = 0.2\n",
    "learning_rate = 0.0001\n",
    "for a in acti_fn:\n",
    "    model = NeuralNetwork2(d,a,learning_rate)\n",
    "    model.fit(x_train,y_train,num_epochs=250,batch_size=128)\n",
    "    # Predicting the accuracy\n",
    "    y_pred = model.predict(x_test)\n",
    "    accuracy = ((y_pred == y_test).sum().item()) / (y_test.shape[0])\n",
    "    print(\"Activation Function: {} ,Dropout: {}, Initializer: xavier_normal,Optimizer: Adam, Test Accuracy: {:.4f}\".format(a,d,accuracy))"
   ]
  },
  {
   "cell_type": "code",
   "execution_count": 28,
   "id": "6466b3c5",
   "metadata": {},
   "outputs": [],
   "source": [
    "# For the third hyperparameter tuning, Optimizer is used\n",
    "# Optimizer will change but other hyperparameters is constant"
   ]
  },
  {
   "cell_type": "code",
   "execution_count": 29,
   "id": "2fb02946",
   "metadata": {},
   "outputs": [],
   "source": [
    "class NeuralNetwork3(nn.Module):\n",
    "    def __init__(self,d,o,learning_rate):\n",
    "\n",
    "        super(NeuralNetwork3, self).__init__()\n",
    "        self.fc1 = nn.Linear(7, 128)\n",
    "        self.dropout = nn.Dropout(d)\n",
    "        self.relu = nn.ReLU()\n",
    "        self.fc2 = nn.Linear(128, 128)\n",
    "        self.fc3 = nn.Linear(128, 2)\n",
    "        nn.init.xavier_normal_(self.fc1.weight)\n",
    "        nn.init.xavier_normal_(self.fc2.weight)\n",
    "        nn.init.xavier_normal_(self.fc3.weight)\n",
    "        if o == \"Adam\":\n",
    "            self.optimizer = optim.Adam(self.parameters(), lr =  learning_rate)\n",
    "        elif o == \"SGD\":\n",
    "            self.optimizer = optim.SGD(self.parameters(), lr =  learning_rate)\n",
    "        elif o == \"RMSprop\":\n",
    "            self.optimizer = optim.RMSprop(self.parameters(), lr =  learning_rate)\n",
    "    def forward(self, x):\n",
    "\n",
    "        out = self.fc1(x)\n",
    "        out = self.dropout(out)\n",
    "        out = self.relu(out)\n",
    "        out = self.fc2(out)\n",
    "        out = self.relu(out)\n",
    "        out = self.fc3(out)\n",
    "        return out\n",
    "    def fit(self, x_train, y_train, num_epochs, batch_size):\n",
    "        t_loss = []\n",
    "        t_accuracy = []\n",
    "        # loss function \n",
    "        loss_func = nn.CrossEntropyLoss()\n",
    "        for e in range(num_epochs):\n",
    "            a = torch.randperm(x_train.shape[0])\n",
    "            x_train = x_train[a]\n",
    "            y_train = y_train[a]\n",
    "            e_loss = 0.0\n",
    "            e_accuracy = 0.0\n",
    "            for i in range(0,x_train.shape[0],batch_size):\n",
    "                x_batch = x_train[i:i+batch_size]\n",
    "                y_batch = y_train[i:i+batch_size]\n",
    "                self.optimizer.zero_grad()\n",
    "                y_pred = self(x_batch)\n",
    "                loss = loss_func(y_pred,y_batch)\n",
    "                loss.backward()\n",
    "                self.optimizer.step()\n",
    "                e_loss+=loss.item( )* x_batch.size(0)\n",
    "                _,l_pred = torch.max(y_pred.data,1)\n",
    "                e_accuracy += (l_pred == y_batch).sum().item()\n",
    "            e_loss /= x_train.shape[0]\n",
    "            e_accuracy /= x_train.shape[0]\n",
    "            t_loss.append(e_loss)\n",
    "            t_accuracy.append(e_accuracy)\n",
    "    def predict(self,x):\n",
    "        self.eval()\n",
    "        _,l_pred = torch.max(self(x), dim=1)\n",
    "        return l_pred"
   ]
  },
  {
   "cell_type": "code",
   "execution_count": 30,
   "id": "4ff8bcc6",
   "metadata": {},
   "outputs": [
    {
     "name": "stdout",
     "output_type": "stream",
     "text": [
      "Optimizer: Adam,Activation Function: Relu ,Dropout: 0.2, Initializer: xavier_normal,Optimizer: Adam, Test Accuracy: 0.7434\n",
      "Optimizer: SGD,Activation Function: Relu ,Dropout: 0.2, Initializer: xavier_normal,Optimizer: Adam, Test Accuracy: 0.6645\n",
      "Optimizer: RMSprop,Activation Function: Relu ,Dropout: 0.2, Initializer: xavier_normal,Optimizer: Adam, Test Accuracy: 0.7500\n"
     ]
    }
   ],
   "source": [
    "Optimizer = [\"Adam\",\"SGD\",\"RMSprop\"]\n",
    "d = 0.2\n",
    "learning_rate = 0.0001\n",
    "for o in Optimizer:\n",
    "    model = NeuralNetwork3(d,o,learning_rate)\n",
    "    model.fit(x_train,y_train,num_epochs=250,batch_size=128)\n",
    "    # Predicting the accuracy\n",
    "    y_pred = model.predict(x_test)\n",
    "    accuracy = ((y_pred == y_test).sum().item()) / (y_test.shape[0])\n",
    "    print(\"Optimizer: {},Activation Function: Relu ,Dropout: {}, Initializer: xavier_normal,Optimizer: Adam, Test Accuracy: {:.4f}\".format(o,d,accuracy))"
   ]
  },
  {
   "cell_type": "markdown",
   "id": "ba7884f9",
   "metadata": {},
   "source": [
    "## After three hyperparameter tuning with 9 setups in total, the setup which has highest accuracy ,"
   ]
  },
  {
   "cell_type": "markdown",
   "id": "aace0c9d",
   "metadata": {},
   "source": [
    "### Activation Function: Softmax\n",
    "### Dropout : 0.2\n",
    "### Initializer : xavier_normal\n",
    "### Optimizer: Adam\n",
    "### Accuracy : 0.7697"
   ]
  },
  {
   "cell_type": "markdown",
   "id": "d75b37ad",
   "metadata": {},
   "source": [
    "## Taking this setup and making it as the base model"
   ]
  },
  {
   "cell_type": "code",
   "execution_count": 164,
   "id": "784ef683",
   "metadata": {},
   "outputs": [],
   "source": [
    "# Base model\n",
    "class basemodel(nn.Module):\n",
    "    def __init__(self,d,a,learning_rate):\n",
    "\n",
    "        super(basemodel, self).__init__()\n",
    "        self.fc1 = nn.Linear(7, 128)\n",
    "        self.dropout = nn.Dropout(d)\n",
    "        if a == \"Relu\":\n",
    "            self.activationfunction = nn.ReLU()\n",
    "        elif a == \"Sigmoid\":\n",
    "            self.activationfunction = nn.Sigmoid()\n",
    "        elif a == \"Softmax\":\n",
    "            self.activationfunction = nn.Softmax()\n",
    "        self.fc2 = nn.Linear(128, 128)\n",
    "        self.fc3 = nn.Linear(128, 2)\n",
    "        nn.init.xavier_normal_(self.fc1.weight)\n",
    "        nn.init.xavier_normal_(self.fc2.weight)\n",
    "        nn.init.xavier_normal_(self.fc3.weight)\n",
    "        self.optimizer = optim.Adam(self.parameters(), lr =  learning_rate)\n",
    "    def forward(self, x):\n",
    "\n",
    "        out = self.fc1(x)\n",
    "        out = self.dropout(out)\n",
    "        out = self.activationfunction(out)\n",
    "        out = self.fc2(out)\n",
    "        out = self.fc3(out)\n",
    "        return out\n",
    "    def fit(self, x_train, y_train,x_test,y_test, num_epochs, batch_size):\n",
    "        t_loss = []\n",
    "        t_accuracy = []\n",
    "        te_loss = []\n",
    "        te_accuracy = []\n",
    "        # loss function\n",
    "        loss_func = nn.CrossEntropyLoss()\n",
    "        for e in range(num_epochs):\n",
    "            a = torch.randperm(x_train.shape[0])\n",
    "            x_train = x_train[a]\n",
    "            y_train = y_train[a]\n",
    "            e_loss = 0.0\n",
    "            e_accuracy = 0.0\n",
    "            for i in range(0,x_train.shape[0],batch_size):\n",
    "                x_batch = x_train[i:i+batch_size]\n",
    "                y_batch = y_train[i:i+batch_size]\n",
    "                self.optimizer.zero_grad()\n",
    "                y_pred = self(x_batch)\n",
    "                loss = loss_func(y_pred,y_batch)\n",
    "                loss.backward()\n",
    "                self.optimizer.step()\n",
    "                e_loss+=loss.item( )* x_batch.size(0)\n",
    "                _,l_pred = torch.max(y_pred.data,1)\n",
    "                e_accuracy += (l_pred == y_batch).sum().item()\n",
    "            # Calculating the test accuracy and test_loss\n",
    "            self.eval()\n",
    "            with torch.no_grad():\n",
    "                t_y_pred = self(x_test)\n",
    "                test_loss = loss_func(t_y_pred, y_test).item()\n",
    "                test_pred = torch.argmax(t_y_pred, dim=1)\n",
    "                correct = (test_pred == y_test).sum().item()\n",
    "                test_accuracy = correct / len(x_test)\n",
    "            e_loss /= x_train.shape[0]\n",
    "            e_accuracy /= x_train.shape[0]\n",
    "            t_loss.append(e_loss)\n",
    "            t_accuracy.append(e_accuracy)\n",
    "            te_loss.append(test_loss)\n",
    "            te_accuracy.append(test_accuracy)\n",
    "        return t_accuracy,te_accuracy\n",
    "    def predict(self,x):\n",
    "        self.eval()\n",
    "        _,l_pred = torch.max(self(x), dim=1)\n",
    "        return l_pred"
   ]
  },
  {
   "cell_type": "code",
   "execution_count": 165,
   "id": "bd399729",
   "metadata": {},
   "outputs": [
    {
     "name": "stderr",
     "output_type": "stream",
     "text": [
      "C:\\Users\\Sanjay\\AppData\\Local\\Temp\\ipykernel_1528\\2256099918.py:24: UserWarning: Implicit dimension choice for softmax has been deprecated. Change the call to include dim=X as an argument.\n",
      "  out = self.activationfunction(out)\n"
     ]
    },
    {
     "name": "stdout",
     "output_type": "stream",
     "text": [
      "Dropout: 0.2, Activation Function: Softmax , Initializer: xavier_normal,Optimizer: Adam, Test Accuracy: 0.7632\n"
     ]
    }
   ],
   "source": [
    "a = \"Softmax\"\n",
    "d = 0.2\n",
    "learning_rate = 0.0001\n",
    "base_model = basemodel(d,a,learning_rate)\n",
    "b_train_accuracy,b_test_accuracy = base_model.fit(x_train,y_train,x_test,y_test,num_epochs=250,batch_size=128)\n",
    "y_pred = base_model.predict(x_test)\n",
    "base_accuracy = ((y_pred == y_test).sum().item()) / (y_test.shape[0])\n",
    "print(\"Dropout: {}, Activation Function: Softmax , Initializer: xavier_normal,Optimizer: Adam, Test Accuracy: {:.4f}\".format(d,base_accuracy))\n"
   ]
  },
  {
   "cell_type": "code",
   "execution_count": 121,
   "id": "1104f874",
   "metadata": {},
   "outputs": [
    {
     "data": {
      "image/png": "[encoded data removed]",
      "text/plain": [
       "<Figure size 640x480 with 1 Axes>"
      ]
     },
     "metadata": {},
     "output_type": "display_data"
    }
   ],
   "source": [
    "# Plotting train accuracy and test accuracy\n",
    "plt.plot(b_test_accuracy,label=\"Testing Accuracy\")\n",
    "plt.plot(b_train_accuracy,label=\"Training Accuracy\")\n",
    "plt.title(\"Progress of Training\")\n",
    "plt.legend()\n",
    "plt.show()"
   ]
  },
  {
   "cell_type": "code",
   "execution_count": 167,
   "id": "03902c5f",
   "metadata": {},
   "outputs": [],
   "source": [
    "# Applying Early stopping to the model\n",
    "class earlystopping(nn.Module):\n",
    "    def __init__(self,d,a,learning_rate):\n",
    "\n",
    "        super(earlystopping, self).__init__()\n",
    "        self.fc1 = nn.Linear(7, 128)\n",
    "        self.dropout = nn.Dropout(d)\n",
    "        if a == \"Relu\":\n",
    "            self.activationfunction = nn.ReLU()\n",
    "        elif a == \"Sigmoid\":\n",
    "            self.activationfunction = nn.Sigmoid()\n",
    "        elif a == \"Softmax\":\n",
    "            self.activationfunction = nn.Softmax()\n",
    "        self.fc2 = nn.Linear(128, 128)\n",
    "        self.fc3 = nn.Linear(128, 2)\n",
    "        nn.init.xavier_normal_(self.fc1.weight)\n",
    "        nn.init.xavier_normal_(self.fc2.weight)\n",
    "        nn.init.xavier_normal_(self.fc3.weight)\n",
    "        self.optimizer = optim.Adam(self.parameters(), lr =  learning_rate)\n",
    "    def forward(self, x):\n",
    "\n",
    "        out = self.fc1(x)\n",
    "        out = self.dropout(out)\n",
    "        out = self.activationfunction(out)\n",
    "        out = self.fc2(out)\n",
    "        out = self.fc3(out)\n",
    "        return out\n",
    "    def fit(self, patience, x_train, y_train,x_test,y_test, num_epochs, batch_size):\n",
    "        b_loss = float('inf')\n",
    "        improvement = 0\n",
    "        t_loss = []\n",
    "        t_accuracy = []\n",
    "        te_loss = []\n",
    "        te_accuracy = []\n",
    "        # loss function\n",
    "        loss_func = nn.CrossEntropyLoss()\n",
    "        for e in range(num_epochs):\n",
    "            a = torch.randperm(x_train.shape[0])\n",
    "            x_train = x_train[a]\n",
    "            y_train = y_train[a]\n",
    "            e_loss = 0.0\n",
    "            e_accuracy = 0.0\n",
    "            for i in range(0,x_train.shape[0],batch_size):\n",
    "                x_batch = x_train[i:i+batch_size]\n",
    "                y_batch = y_train[i:i+batch_size]\n",
    "                self.optimizer.zero_grad()\n",
    "                y_pred = self(x_batch)\n",
    "                loss = loss_func(y_pred,y_batch)\n",
    "                loss.backward()\n",
    "                self.optimizer.step()\n",
    "                e_loss+=loss.item( )* x_batch.size(0)\n",
    "                _,l_pred = torch.max(y_pred.data,1)\n",
    "                e_accuracy += (l_pred == y_batch).sum().item()\n",
    "            # Calculating the test accuracy and test_loss\n",
    "            self.eval()\n",
    "            with torch.no_grad():\n",
    "                t_y_pred = self(x_test)\n",
    "                test_loss = loss_func(t_y_pred, y_test).item()\n",
    "                test_pred = torch.argmax(t_y_pred, dim=1)\n",
    "                correct = (test_pred == y_test).sum().item()\n",
    "                test_accuracy = correct / len(x_test)\n",
    "            e_loss /= x_train.shape[0]\n",
    "            e_accuracy /= x_train.shape[0]\n",
    "            t_loss.append(e_loss)\n",
    "            t_accuracy.append(e_accuracy)\n",
    "            te_loss.append(test_loss)\n",
    "            te_accuracy.append(test_accuracy)\n",
    "            if test_loss > b_loss:\n",
    "                improvement += 1\n",
    "            else:\n",
    "                improvement = 0\n",
    "                b_loss = test_loss\n",
    "            if improvement >= patience:\n",
    "                print(\"The model has not improved\")\n",
    "                break\n",
    "        return t_accuracy,te_accuracy\n",
    "    def predict(self,x):\n",
    "        self.eval()\n",
    "        _,l_pred = torch.max(self(x), dim=1)\n",
    "        return l_pred"
   ]
  },
  {
   "cell_type": "code",
   "execution_count": 170,
   "id": "021a78dc",
   "metadata": {},
   "outputs": [
    {
     "name": "stderr",
     "output_type": "stream",
     "text": [
      "C:\\Users\\Sanjay\\AppData\\Local\\Temp\\ipykernel_1528\\3239894971.py:24: UserWarning: Implicit dimension choice for softmax has been deprecated. Change the call to include dim=X as an argument.\n",
      "  out = self.activationfunction(out)\n"
     ]
    },
    {
     "name": "stdout",
     "output_type": "stream",
     "text": [
      "Dropout: 0.2, Activation Function: Softmax , Initializer: xavier_normal,Optimizer: Adam, Test Accuracy: 0.7697\n"
     ]
    }
   ],
   "source": [
    "a = \"Softmax\"\n",
    "d = 0.2\n",
    "learning_rate = 0.0001\n",
    "patience = 2\n",
    "early_model = earlystopping(d,a,learning_rate)\n",
    "train_accuracy,test_accuracy = early_model.fit(patience,x_train,y_train,x_test,y_test,num_epochs=250,batch_size=128)\n",
    "y_pred = early_model.predict(x_test)\n",
    "early_accuracy = ((y_pred == y_test).sum().item()) / (y_test.shape[0])\n",
    "print(\"Dropout: {}, Activation Function: Softmax , Initializer: xavier_normal,Optimizer: Adam, Test Accuracy: {:.4f}\".format(d,early_accuracy))"
   ]
  },
  {
   "cell_type": "code",
   "execution_count": 171,
   "id": "7455e5d6",
   "metadata": {},
   "outputs": [
    {
     "data": {
      "image/png": "[encoded data removed]",
      "text/plain": [
       "<Figure size 640x480 with 1 Axes>"
      ]
     },
     "metadata": {},
     "output_type": "display_data"
    }
   ],
   "source": [
    "# Comparison of base model test accuracy and early stopping model test accuracy\n",
    "plt.plot(b_test_accuracy,label=\"Base Testing Accuracy\")\n",
    "plt.plot(test_accuracy,label=\"Early Stopping Testing Accuracy\")\n",
    "plt.title(\"Comparison\")\n",
    "plt.legend()\n",
    "plt.show()"
   ]
  },
  {
   "cell_type": "code",
   "execution_count": 172,
   "id": "0f0f2721",
   "metadata": {},
   "outputs": [],
   "source": [
    "## Gradient Clipping\n",
    "class gradientclip(nn.Module):\n",
    "    def __init__(self,d,a,learning_rate):\n",
    "\n",
    "        super(gradientclip, self).__init__()\n",
    "        self.fc1 = nn.Linear(7, 128)\n",
    "        self.dropout = nn.Dropout(d)\n",
    "        if a == \"Relu\":\n",
    "            self.activationfunction = nn.ReLU()\n",
    "        elif a == \"Sigmoid\":\n",
    "            self.activationfunction = nn.Sigmoid()\n",
    "        elif a == \"Softmax\":\n",
    "            self.activationfunction = nn.Softmax()\n",
    "        self.fc2 = nn.Linear(128, 128)\n",
    "        self.fc3 = nn.Linear(128, 2)\n",
    "        nn.init.xavier_normal_(self.fc1.weight)\n",
    "        nn.init.xavier_normal_(self.fc2.weight)\n",
    "        nn.init.xavier_normal_(self.fc3.weight)\n",
    "        self.optimizer = optim.Adam(self.parameters(), lr =  learning_rate)\n",
    "    def forward(self, x):\n",
    "\n",
    "        out = self.fc1(x)\n",
    "        out = self.dropout(out)\n",
    "        out = self.activationfunction(out)\n",
    "        out = self.fc2(out)\n",
    "        out = self.fc3(out)\n",
    "        return out\n",
    "    def fit(self,c_value, x_train, y_train,x_test,y_test, num_epochs, batch_size):\n",
    "        t_loss = []\n",
    "        t_accuracy = []\n",
    "        te_loss = []\n",
    "        te_accuracy = []\n",
    "        # loss function\n",
    "        loss_func = nn.CrossEntropyLoss()\n",
    "        for e in range(num_epochs):\n",
    "            a = torch.randperm(x_train.shape[0])\n",
    "            x_train = x_train[a]\n",
    "            y_train = y_train[a]\n",
    "            e_loss = 0.0\n",
    "            e_accuracy = 0.0\n",
    "            for i in range(0,x_train.shape[0],batch_size):\n",
    "                x_batch = x_train[i:i+batch_size]\n",
    "                y_batch = y_train[i:i+batch_size]\n",
    "                self.optimizer.zero_grad()\n",
    "                y_pred = self(x_batch)\n",
    "                loss = loss_func(y_pred,y_batch)\n",
    "                loss.backward()\n",
    "                torch.nn.utils.clip_grad_norm_(self.parameters(), c_value)\n",
    "                self.optimizer.step()\n",
    "                e_loss+=loss.item( )* x_batch.size(0)\n",
    "                _,l_pred = torch.max(y_pred.data,1)\n",
    "                e_accuracy += (l_pred == y_batch).sum().item()\n",
    "            # Calculating the test accuracy and test_loss\n",
    "            self.eval()\n",
    "            with torch.no_grad():\n",
    "                t_y_pred = self(x_test)\n",
    "                test_loss = loss_func(t_y_pred, y_test).item()\n",
    "                test_pred = torch.argmax(t_y_pred, dim=1)\n",
    "                correct = (test_pred == y_test).sum().item()\n",
    "                test_accuracy = correct / len(x_test)\n",
    "            e_loss /= x_train.shape[0]\n",
    "            e_accuracy /= x_train.shape[0]\n",
    "            t_loss.append(e_loss)\n",
    "            t_accuracy.append(e_accuracy)\n",
    "            te_loss.append(test_loss)\n",
    "            te_accuracy.append(test_accuracy)\n",
    "        return t_accuracy,te_accuracy\n",
    "    def predict(self,x):\n",
    "        self.eval()\n",
    "        _,l_pred = torch.max(self(x), dim=1)\n",
    "        return l_pred"
   ]
  },
  {
   "cell_type": "code",
   "execution_count": 173,
   "id": "c7b430a1",
   "metadata": {},
   "outputs": [
    {
     "name": "stderr",
     "output_type": "stream",
     "text": [
      "C:\\Users\\Sanjay\\AppData\\Local\\Temp\\ipykernel_1528\\2357923582.py:24: UserWarning: Implicit dimension choice for softmax has been deprecated. Change the call to include dim=X as an argument.\n",
      "  out = self.activationfunction(out)\n"
     ]
    },
    {
     "name": "stdout",
     "output_type": "stream",
     "text": [
      "Dropout: 0.2, Activation Function: Softmax , Initializer: xavier_normal,Optimizer: Adam, Test Accuracy: 0.7632\n"
     ]
    }
   ],
   "source": [
    "a = \"Softmax\"\n",
    "d = 0.2\n",
    "learning_rate = 0.0001\n",
    "c_value = 1.0\n",
    "gradient_model = gradientclip(d,a,learning_rate)\n",
    "train_accuracy,test_accuracy = gradient_model.fit(c_value,x_train,y_train,x_test,y_test,num_epochs=250,batch_size=128)\n",
    "y_pred = gradient_model.predict(x_test)\n",
    "gradient_accuracy = ((y_pred == y_test).sum().item()) / (y_test.shape[0])\n",
    "print(\"Dropout: {}, Activation Function: Softmax , Initializer: xavier_normal,Optimizer: Adam, Test Accuracy: {:.4f}\".format(d,gradient_accuracy))"
   ]
  },
  {
   "cell_type": "code",
   "execution_count": 174,
   "id": "96edd94b",
   "metadata": {},
   "outputs": [
    {
     "data": {
      "image/png": "[encoded data removed]",
      "text/plain": [
       "<Figure size 640x480 with 1 Axes>"
      ]
     },
     "metadata": {},
     "output_type": "display_data"
    }
   ],
   "source": [
    "# Plotting train accuracy and test accuracy\n",
    "plt.plot(b_test_accuracy,label=\"Base Testing Accuracy\")\n",
    "plt.plot(train_accuracy,label=\"Gradient clipping Testing Accuracy\")\n",
    "plt.title(\"Comparison\")\n",
    "plt.legend()\n",
    "plt.show()"
   ]
  },
  {
   "cell_type": "code",
   "execution_count": 175,
   "id": "20d461c0",
   "metadata": {},
   "outputs": [],
   "source": [
    "## Learning rate scheduler\n",
    "class learningrate(nn.Module):\n",
    "    def __init__(self,d,a,learning_rate):\n",
    "\n",
    "        super(learningrate, self).__init__()\n",
    "        self.fc1 = nn.Linear(7, 128)\n",
    "        self.dropout = nn.Dropout(d)\n",
    "        if a == \"Relu\":\n",
    "            self.activationfunction = nn.ReLU()\n",
    "        elif a == \"Sigmoid\":\n",
    "            self.activationfunction = nn.Sigmoid()\n",
    "        elif a == \"Softmax\":\n",
    "            self.activationfunction = nn.Softmax()\n",
    "        self.fc2 = nn.Linear(128, 128)\n",
    "        self.fc3 = nn.Linear(128, 2)\n",
    "        nn.init.xavier_normal_(self.fc1.weight)\n",
    "        nn.init.xavier_normal_(self.fc2.weight)\n",
    "        nn.init.xavier_normal_(self.fc3.weight)\n",
    "        self.optimizer = optim.Adam(self.parameters(), lr =  learning_rate)\n",
    "    def forward(self, x):\n",
    "\n",
    "        out = self.fc1(x)\n",
    "        out = self.dropout(out)\n",
    "        out = self.activationfunction(out)\n",
    "        out = self.fc2(out)\n",
    "        out = self.fc3(out)\n",
    "        return out\n",
    "    def fit(self, l_step, l_gamma, x_train, y_train,x_test,y_test, num_epochs, batch_size):\n",
    "        t_loss = []\n",
    "        t_accuracy = []\n",
    "        te_loss = []\n",
    "        te_accuracy = []\n",
    "        # loss function \n",
    "        loss_func = nn.CrossEntropyLoss()\n",
    "        schedule = optim.lr_scheduler.StepLR(self.optimizer, step_size=l_step, gamma=l_gamma)\n",
    "        for e in range(num_epochs):\n",
    "            a = torch.randperm(x_train.shape[0])\n",
    "            x_train = x_train[a]\n",
    "            y_train = y_train[a]\n",
    "            e_loss = 0.0\n",
    "            e_accuracy = 0.0\n",
    "            for i in range(0,x_train.shape[0],batch_size):\n",
    "                x_batch = x_train[i:i+batch_size]\n",
    "                y_batch = y_train[i:i+batch_size]\n",
    "                self.optimizer.zero_grad()\n",
    "                y_pred = self(x_batch)\n",
    "                loss = loss_func(y_pred,y_batch)\n",
    "                loss.backward()\n",
    "                self.optimizer.step()\n",
    "                e_loss+=loss.item( )* x_batch.size(0)\n",
    "                _,l_pred = torch.max(y_pred.data,1)\n",
    "                e_accuracy += (l_pred == y_batch).sum().item()\n",
    "            # Calculating the test accuracy and test_loss\n",
    "            self.eval()\n",
    "            with torch.no_grad():\n",
    "                t_y_pred = self(x_test)\n",
    "                test_loss = loss_func(t_y_pred, y_test).item()\n",
    "                test_pred = torch.argmax(t_y_pred, dim=1)\n",
    "                correct = (test_pred == y_test).sum().item()\n",
    "                test_accuracy = correct / len(x_test)\n",
    "            e_loss /= x_train.shape[0]\n",
    "            e_accuracy /= x_train.shape[0]\n",
    "            t_loss.append(e_loss)\n",
    "            t_accuracy.append(e_accuracy)\n",
    "            te_loss.append(test_loss)\n",
    "            te_accuracy.append(test_accuracy)\n",
    "            schedule.step()\n",
    "        return t_accuracy,te_accuracy\n",
    "    def predict(self,x):\n",
    "        self.eval()\n",
    "        _,l_pred = torch.max(self(x), dim=1)\n",
    "        return l_pred"
   ]
  },
  {
   "cell_type": "code",
   "execution_count": 176,
   "id": "05f3c44d",
   "metadata": {},
   "outputs": [
    {
     "name": "stderr",
     "output_type": "stream",
     "text": [
      "C:\\Users\\Sanjay\\AppData\\Local\\Temp\\ipykernel_1528\\1600764677.py:24: UserWarning: Implicit dimension choice for softmax has been deprecated. Change the call to include dim=X as an argument.\n",
      "  out = self.activationfunction(out)\n"
     ]
    },
    {
     "name": "stdout",
     "output_type": "stream",
     "text": [
      "Dropout: 0.2, Activation Function: Softmax , Initializer: xavier_normal,Optimizer: Adam, Test Accuracy: 0.6579\n"
     ]
    }
   ],
   "source": [
    "a = \"Softmax\"\n",
    "d = 0.2\n",
    "learning_rate = 0.0001\n",
    "l_step = 20\n",
    "l_gamma = 0.1\n",
    "learning_model = learningrate(d,a,learning_rate)\n",
    "train_accuracy,test_accuracy = learning_model.fit(l_step,l_gamma,x_train,y_train,x_test,y_test,num_epochs=250,batch_size=128)\n",
    "y_pred = learning_model.predict(x_test)\n",
    "learning_accuracy = ((y_pred == y_test).sum().item()) / (y_test.shape[0])\n",
    "print(\"Dropout: {}, Activation Function: Softmax , Initializer: xavier_normal,Optimizer: Adam, Test Accuracy: {:.4f}\".format(d,learning_accuracy))"
   ]
  },
  {
   "cell_type": "code",
   "execution_count": 177,
   "id": "0c984f58",
   "metadata": {},
   "outputs": [
    {
     "data": {
      "image/png": "[encoded data removed]",
      "text/plain": [
       "<Figure size 640x480 with 1 Axes>"
      ]
     },
     "metadata": {},
     "output_type": "display_data"
    }
   ],
   "source": [
    "# Plotting train accuracy and test accuracy\n",
    "plt.plot(b_test_accuracy,label=\"Base Testing Accuracy\")\n",
    "plt.plot(test_accuracy,label=\"Learning Rate Scheduler Testing Accuracy\")\n",
    "plt.title(\"Comparison\")\n",
    "plt.legend()\n",
    "plt.show()"
   ]
  },
  {
   "cell_type": "code",
   "execution_count": 179,
   "id": "00744197",
   "metadata": {},
   "outputs": [],
   "source": [
    "## Batch normalization\n",
    "class batchnorm(nn.Module):\n",
    "    def __init__(self,d,a,learning_rate):\n",
    "\n",
    "        super(batchnorm, self).__init__()\n",
    "        self.fc1 = nn.Linear(7, 128)\n",
    "        self.bn1 = nn.BatchNorm1d(128)\n",
    "        self.dropout = nn.Dropout(d)\n",
    "        if a == \"Relu\":\n",
    "            self.activationfunction = nn.ReLU()\n",
    "        elif a == \"Sigmoid\":\n",
    "            self.activationfunction = nn.Sigmoid()\n",
    "        elif a == \"Softmax\":\n",
    "            self.activationfunction = nn.Softmax()\n",
    "        self.fc2 = nn.Linear(128, 128)\n",
    "        self.bn2 = nn.BatchNorm1d(128)\n",
    "        self.fc3 = nn.Linear(128, 2)\n",
    "        nn.init.xavier_normal_(self.fc1.weight)\n",
    "        nn.init.xavier_normal_(self.fc2.weight)\n",
    "        nn.init.xavier_normal_(self.fc3.weight)\n",
    "        self.optimizer = optim.Adam(self.parameters(), lr =  learning_rate)\n",
    "    def forward(self, x):\n",
    "\n",
    "        out = self.fc1(x)\n",
    "        out = self.bn1(out)\n",
    "        out = self.dropout(out)\n",
    "        out = self.activationfunction(out)\n",
    "        out = self.fc2(out)\n",
    "        out = self.bn2(out)\n",
    "        out = self.fc3(out)\n",
    "        return out\n",
    "    def fit(self, x_train, y_train,x_test,y_test, num_epochs, batch_size):\n",
    "        t_loss = []\n",
    "        t_accuracy = []\n",
    "        te_loss = []\n",
    "        te_accuracy = []\n",
    "        # loss function\n",
    "        loss_func = nn.CrossEntropyLoss()\n",
    "        for e in range(num_epochs):\n",
    "            a = torch.randperm(x_train.shape[0])\n",
    "            x_train = x_train[a]\n",
    "            y_train = y_train[a]\n",
    "            e_loss = 0.0\n",
    "            e_accuracy = 0.0\n",
    "            for i in range(0,x_train.shape[0],batch_size):\n",
    "                x_batch = x_train[i:i+batch_size]\n",
    "                y_batch = y_train[i:i+batch_size]\n",
    "                self.optimizer.zero_grad()\n",
    "                y_pred = self(x_batch)\n",
    "                loss = loss_func(y_pred,y_batch)\n",
    "                loss.backward()\n",
    "                self.optimizer.step()\n",
    "                e_loss+=loss.item( )* x_batch.size(0)\n",
    "                _,l_pred = torch.max(y_pred.data,1)\n",
    "                e_accuracy += (l_pred == y_batch).sum().item()\n",
    "            # Calculating the test accuracy and test_loss\n",
    "            self.eval()\n",
    "            with torch.no_grad():\n",
    "                t_y_pred = self(x_test)\n",
    "                test_loss = loss_func(t_y_pred, y_test).item()\n",
    "                test_pred = torch.argmax(t_y_pred, dim=1)\n",
    "                correct = (test_pred == y_test).sum().item()\n",
    "                test_accuracy = correct / len(x_test)\n",
    "            e_loss /= x_train.shape[0]\n",
    "            e_accuracy /= x_train.shape[0]\n",
    "            t_loss.append(e_loss)\n",
    "            t_accuracy.append(e_accuracy)\n",
    "            te_loss.append(test_loss)\n",
    "            te_accuracy.append(test_accuracy)\n",
    "        return t_accuracy,te_accuracy\n",
    "    def predict(self,x):\n",
    "        self.eval()\n",
    "        _,l_pred = torch.max(self(x), dim=1)\n",
    "        return l_pred"
   ]
  },
  {
   "cell_type": "code",
   "execution_count": 180,
   "id": "85df4600",
   "metadata": {},
   "outputs": [
    {
     "name": "stderr",
     "output_type": "stream",
     "text": [
      "C:\\Users\\Sanjay\\AppData\\Local\\Temp\\ipykernel_1528\\2256099918.py:24: UserWarning: Implicit dimension choice for softmax has been deprecated. Change the call to include dim=X as an argument.\n",
      "  out = self.activationfunction(out)\n"
     ]
    },
    {
     "name": "stdout",
     "output_type": "stream",
     "text": [
      "Dropout: 0.2, Activation Function: Softmax , Initializer: xavier_normal,Optimizer: Adam, Test Accuracy: 0.6579\n"
     ]
    }
   ],
   "source": [
    "a = \"Softmax\"\n",
    "d = 0.2\n",
    "learning_rate = 0.0001\n",
    "batch_model = basemodel(d,a,learning_rate)\n",
    "train_accuracy,b_test_accuracy = base_model.fit(x_train,y_train,x_test,y_test,num_epochs=250,batch_size=128)\n",
    "y_pred = batch_model.predict(x_test)\n",
    "batch_accuracy = ((y_pred == y_test).sum().item()) / (y_test.shape[0])\n",
    "print(\"Dropout: {}, Activation Function: Softmax , Initializer: xavier_normal,Optimizer: Adam, Test Accuracy: {:.4f}\".format(d,batch_accuracy))"
   ]
  },
  {
   "cell_type": "code",
   "execution_count": 181,
   "id": "b02bda61",
   "metadata": {},
   "outputs": [
    {
     "data": {
      "image/png": "[encoded data removed]",
      "text/plain": [
       "<Figure size 640x480 with 1 Axes>"
      ]
     },
     "metadata": {},
     "output_type": "display_data"
    }
   ],
   "source": [
    "# Plotting train accuracy and test accuracy\n",
    "plt.plot(b_test_accuracy,label=\"Base Testing Accuracy\")\n",
    "plt.plot(test_accuracy,label=\"Batch Normalization Testing Accuracy\")\n",
    "plt.title(\"Comparison\")\n",
    "plt.legend()\n",
    "plt.show()"
   ]
  },
  {
   "cell_type": "code",
   "execution_count": 182,
   "id": "b3efc69c",
   "metadata": {},
   "outputs": [
    {
     "name": "stdout",
     "output_type": "stream",
     "text": [
      "Base Model: 0.7631578947368421\n",
      "Early Stopping Model: 0.7697368421052632\n",
      "Gradient Clipping Model: 0.7631578947368421\n",
      "Learning Scheduler Rate Model: 0.6578947368421053\n",
      "Batch Normalization Model: 0.6578947368421053\n"
     ]
    }
   ],
   "source": [
    "# Accuracy for different method\n",
    "print(\"Base Model: {}\".format(base_accuracy))\n",
    "print(\"Early Stopping Model: {}\".format(early_accuracy))\n",
    "print(\"Gradient Clipping Model: {}\".format(gradient_accuracy))\n",
    "print(\"Learning Scheduler Rate Model: {}\".format(learning_accuracy))\n",
    "print(\"Batch Normalization Model: {}\".format(batch_accuracy))"
   ]
  },
  {
   "cell_type": "code",
   "execution_count": 184,
   "id": "ab13772f",
   "metadata": {},
   "outputs": [
    {
     "data": {
      "image/png": "[encoded data removed]",
      "text/plain": [
       "<Figure size 1200x800 with 1 Axes>"
      ]
     },
     "metadata": {},
     "output_type": "display_data"
    }
   ],
   "source": [
    "# Plotting the accuracy for each model\n",
    "fig, ax = plt.subplots(figsize=(12,8))\n",
    "ax.bar(['Base Model','Early Stopping Model','Gradient Clipping Model','Learning rate Model','Batch Normalization Model'],[base_accuracy,early_accuracy,gradient_accuracy,learning_accuracy,batch_accuracy])\n",
    "ax.set_title(\"Models Testing Accuracy\")\n",
    "plt.show()"
   ]
  },
  {
   "cell_type": "markdown",
   "id": "bfaf8ce1",
   "metadata": {},
   "source": [
    "Early Stopping Model has the highest accuracy"
   ]
  },
  {
   "cell_type": "code",
   "execution_count": 185,
   "id": "794439e0",
   "metadata": {},
   "outputs": [],
   "source": [
    "# saving the weights\n",
    "torch.save(early_model,'SanjayRoshanravichandran_SanjayTarunJagannathan_assignment2_part2.h5')"
   ]
  },
  {
   "cell_type": "code",
   "execution_count": null,
   "id": "cf7e2bc8",
   "metadata": {},
   "outputs": [],
   "source": []
  }
 ],
 "metadata": {
  "kernelspec": {
   "display_name": "Python 3 (ipykernel)",
   "language": "python",
   "name": "python3"
  },
  "language_info": {
   "codemirror_mode": {
    "name": "ipython",
    "version": 3
   },
   "file_extension": ".py",
   "mimetype": "text/x-python",
   "name": "python",
   "nbconvert_exporter": "python",
   "pygments_lexer": "ipython3",
   "version": "3.9.13"
  }
 },
 "nbformat": 4,
 "nbformat_minor": 5
}
